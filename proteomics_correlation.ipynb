{
 "cells": [
  {
   "cell_type": "code",
   "execution_count": 23,
   "id": "5c463e46",
   "metadata": {},
   "outputs": [],
   "source": [
    "import pandas as pd\n",
    "from Bio import SeqIO\n",
    "import seaborn as sns\n",
    "from codon_counter import *\n"
   ]
  },
  {
   "cell_type": "code",
   "execution_count": 8,
   "id": "1788313d",
   "metadata": {},
   "outputs": [
    {
     "data": {
      "text/html": [
       "<div>\n",
       "<style scoped>\n",
       "    .dataframe tbody tr th:only-of-type {\n",
       "        vertical-align: middle;\n",
       "    }\n",
       "\n",
       "    .dataframe tbody tr th {\n",
       "        vertical-align: top;\n",
       "    }\n",
       "\n",
       "    .dataframe thead th {\n",
       "        text-align: right;\n",
       "    }\n",
       "</style>\n",
       "<table border=\"1\" class=\"dataframe\">\n",
       "  <thead>\n",
       "    <tr style=\"text-align: right;\">\n",
       "      <th></th>\n",
       "      <th>protein_id</th>\n",
       "      <th>gene_name</th>\n",
       "      <th>description</th>\n",
       "      <th>comparison</th>\n",
       "      <th>log2_fc</th>\n",
       "      <th>p_value</th>\n",
       "      <th>adj_p_value</th>\n",
       "      <th>significant</th>\n",
       "    </tr>\n",
       "  </thead>\n",
       "  <tbody>\n",
       "    <tr>\n",
       "      <th>0</th>\n",
       "      <td>QCC34454.1</td>\n",
       "      <td>icsP</td>\n",
       "      <td>omptin family outer membrane protease IcsP</td>\n",
       "      <td>mnmE-WT</td>\n",
       "      <td>-1.340949</td>\n",
       "      <td>9.049053e-11</td>\n",
       "      <td>1.948261e-07</td>\n",
       "      <td>True</td>\n",
       "    </tr>\n",
       "    <tr>\n",
       "      <th>1</th>\n",
       "      <td>QCC32881.1</td>\n",
       "      <td>panB</td>\n",
       "      <td>3-methyl-2-oxobutanoate hydroxymethyltransferase</td>\n",
       "      <td>mnmE-WT</td>\n",
       "      <td>-1.309781</td>\n",
       "      <td>3.029777e-10</td>\n",
       "      <td>2.605178e-07</td>\n",
       "      <td>True</td>\n",
       "    </tr>\n",
       "    <tr>\n",
       "      <th>2</th>\n",
       "      <td>QCC34427.1</td>\n",
       "      <td>EKN05_024790</td>\n",
       "      <td>invasin IpaA</td>\n",
       "      <td>mnmE-WT</td>\n",
       "      <td>-1.508884</td>\n",
       "      <td>4.387052e-10</td>\n",
       "      <td>2.605178e-07</td>\n",
       "      <td>True</td>\n",
       "    </tr>\n",
       "    <tr>\n",
       "      <th>3</th>\n",
       "      <td>QCC31329.1</td>\n",
       "      <td>yedE</td>\n",
       "      <td>selenium metabolism membrane protein YedE/FdhT</td>\n",
       "      <td>mnmE-WT</td>\n",
       "      <td>1.862296</td>\n",
       "      <td>4.840089e-10</td>\n",
       "      <td>2.605178e-07</td>\n",
       "      <td>True</td>\n",
       "    </tr>\n",
       "    <tr>\n",
       "      <th>4</th>\n",
       "      <td>QCC33432.1</td>\n",
       "      <td>pyrE</td>\n",
       "      <td>orotate phosphoribosyltransferase</td>\n",
       "      <td>mnmE-WT</td>\n",
       "      <td>-1.332021</td>\n",
       "      <td>1.547091e-09</td>\n",
       "      <td>6.661772e-07</td>\n",
       "      <td>True</td>\n",
       "    </tr>\n",
       "  </tbody>\n",
       "</table>\n",
       "</div>"
      ],
      "text/plain": [
       "   protein_id     gene_name  \\\n",
       "0  QCC34454.1          icsP   \n",
       "1  QCC32881.1          panB   \n",
       "2  QCC34427.1  EKN05_024790   \n",
       "3  QCC31329.1          yedE   \n",
       "4  QCC33432.1          pyrE   \n",
       "\n",
       "                                         description comparison   log2_fc  \\\n",
       "0        omptin family outer membrane protease IcsP     mnmE-WT -1.340949   \n",
       "1  3-methyl-2-oxobutanoate hydroxymethyltransferase     mnmE-WT -1.309781   \n",
       "2                                      invasin IpaA     mnmE-WT -1.508884   \n",
       "3    selenium metabolism membrane protein YedE/FdhT     mnmE-WT  1.862296   \n",
       "4                 orotate phosphoribosyltransferase     mnmE-WT -1.332021   \n",
       "\n",
       "        p_value   adj_p_value  significant  \n",
       "0  9.049053e-11  1.948261e-07         True  \n",
       "1  3.029777e-10  2.605178e-07         True  \n",
       "2  4.387052e-10  2.605178e-07         True  \n",
       "3  4.840089e-10  2.605178e-07         True  \n",
       "4  1.547091e-09  6.661772e-07         True  "
      ]
     },
     "execution_count": 8,
     "metadata": {},
     "output_type": "execute_result"
    }
   ],
   "source": [
    "df = pd.read_excel(\"Shigella_mutants-proteomics_results-run2.xlsx\")\n",
    "df.head()\n"
   ]
  },
  {
   "cell_type": "code",
   "execution_count": 35,
   "id": "05961f8a",
   "metadata": {},
   "outputs": [
    {
     "name": "stdout",
     "output_type": "stream",
     "text": [
      "['mnmE-WT' 'mnmG-WT' 'pcnB-WT' 'virF-WT' 'yejB-WT']\n",
      "2153 2153\n"
     ]
    }
   ],
   "source": [
    "print(df.comparison.unique())\n",
    "\n",
    "mnmE_df = df.loc[df['comparison'] == 'mnmE-WT']\n",
    "mnmG_df = df.loc[df['comparison'] == 'mnmG-WT']\n",
    "\n",
    "print(len(mnmE_df.protein_id.unique()), len(mnmE_df.comparison))\n",
    "#df2[df2.protein_id.duplicated(keep=False)]"
   ]
  },
  {
   "cell_type": "code",
   "execution_count": 29,
   "id": "ef83b4e1",
   "metadata": {},
   "outputs": [
    {
     "name": "stdout",
     "output_type": "stream",
     "text": [
      "(2153, 8) (732, 8) (1421, 8)\n"
     ]
    }
   ],
   "source": []
  }
 ],
 "metadata": {
  "kernelspec": {
   "display_name": "Python 3 (ipykernel)",
   "language": "python",
   "name": "python3"
  },
  "language_info": {
   "codemirror_mode": {
    "name": "ipython",
    "version": 3
   },
   "file_extension": ".py",
   "mimetype": "text/x-python",
   "name": "python",
   "nbconvert_exporter": "python",
   "pygments_lexer": "ipython3",
   "version": "3.9.16"
  }
 },
 "nbformat": 4,
 "nbformat_minor": 5
}
